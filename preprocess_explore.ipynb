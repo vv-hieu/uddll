{
 "cells": [
  {
   "cell_type": "markdown",
   "metadata": {},
   "source": [
    "## THƯ VIỆN"
   ]
  },
  {
   "cell_type": "code",
   "execution_count": 1,
   "metadata": {},
   "outputs": [],
   "source": [
    "import pandas as pd\n",
    "import numpy as np\n",
    "import random\n",
    "import itertools\n",
    "\n",
    "from matplotlib import pyplot as plt \n",
    "from nameparser import HumanName\n",
    "from fuzzywuzzy import fuzz, process\n",
    "from sklearn.cluster import DBSCAN\n",
    "from pyspark.sql import SparkSession, Row\n",
    "from pyspark.sql.types import StringType, StructType, IntegerType, StructField\n",
    "from pyspark.sql.functions import lower, split, col, when, explode, count, pandas_udf, PandasUDFType\n",
    "\n",
    "spark = SparkSession.builder.master('local').appName(\"Book Recommend System\").getOrCreate()\n",
    "spark.conf.set(\"spark.sql.repl.eagerEval.enabled\", True)"
   ]
  },
  {
   "cell_type": "markdown",
   "metadata": {},
   "source": [
    "## TIỀN XỬ LÝ DỮ LIỆU"
   ]
  },
  {
   "cell_type": "markdown",
   "metadata": {},
   "source": [
    "### DỮ LIỆU SÁCH (BX_Books.csv)"
   ]
  },
  {
   "cell_type": "markdown",
   "metadata": {},
   "source": [
    "Tập dữ liệu sách `BX_Books.csv` bao gồm các cột:\n",
    "- `ISBN`: Mã số chuẩn quốc tế của sách\n",
    "- `Book-Title`: Tựa đề sách\n",
    "- `Book-Author`: Tác giả của sách\n",
    "- `Year-Of-Publication`: Năm xuất bản của sách\n",
    "- `Publisher`: Nhà xuất bản\n",
    "- `Image-URL-S`: URL hình ảnh sách (nhỏ)\n",
    "- `Image-URL-M`: URL hình ảnh sách (vừa)\n",
    "- `Image-URL-L`: URL hình ảnh sách (lớn)\n",
    "\n",
    "Trong số các cột chỉ có 3 cột ta quan tâm, là `ISBN`, `Book-Title` và `Book-Author`. Các cột còn lại ta bỏ qua."
   ]
  },
  {
   "cell_type": "code",
   "execution_count": 2,
   "metadata": {},
   "outputs": [
    {
     "data": {
      "text/html": [
       "<div>\n",
       "<style scoped>\n",
       "    .dataframe tbody tr th:only-of-type {\n",
       "        vertical-align: middle;\n",
       "    }\n",
       "\n",
       "    .dataframe tbody tr th {\n",
       "        vertical-align: top;\n",
       "    }\n",
       "\n",
       "    .dataframe thead th {\n",
       "        text-align: right;\n",
       "    }\n",
       "</style>\n",
       "<table border=\"1\" class=\"dataframe\">\n",
       "  <thead>\n",
       "    <tr style=\"text-align: right;\">\n",
       "      <th></th>\n",
       "      <th>ISBN</th>\n",
       "      <th>Book-Title</th>\n",
       "      <th>Book-Author</th>\n",
       "    </tr>\n",
       "  </thead>\n",
       "  <tbody>\n",
       "    <tr>\n",
       "      <th>0</th>\n",
       "      <td>0195153448</td>\n",
       "      <td>Classical Mythology</td>\n",
       "      <td>Mark P. O. Morford</td>\n",
       "    </tr>\n",
       "    <tr>\n",
       "      <th>1</th>\n",
       "      <td>0002005018</td>\n",
       "      <td>Clara Callan</td>\n",
       "      <td>Richard Bruce Wright</td>\n",
       "    </tr>\n",
       "    <tr>\n",
       "      <th>2</th>\n",
       "      <td>0060973129</td>\n",
       "      <td>Decision in Normandy</td>\n",
       "      <td>Carlo D'Este</td>\n",
       "    </tr>\n",
       "    <tr>\n",
       "      <th>3</th>\n",
       "      <td>0374157065</td>\n",
       "      <td>Flu: The Story of the Great Influenza Pandemic...</td>\n",
       "      <td>Gina Bari Kolata</td>\n",
       "    </tr>\n",
       "    <tr>\n",
       "      <th>4</th>\n",
       "      <td>0393045218</td>\n",
       "      <td>The Mummies of Urumchi</td>\n",
       "      <td>E. J. W. Barber</td>\n",
       "    </tr>\n",
       "  </tbody>\n",
       "</table>\n",
       "</div>"
      ],
      "text/plain": [
       "         ISBN                                         Book-Title  \\\n",
       "0  0195153448                                Classical Mythology   \n",
       "1  0002005018                                       Clara Callan   \n",
       "2  0060973129                               Decision in Normandy   \n",
       "3  0374157065  Flu: The Story of the Great Influenza Pandemic...   \n",
       "4  0393045218                             The Mummies of Urumchi   \n",
       "\n",
       "            Book-Author  \n",
       "0    Mark P. O. Morford  \n",
       "1  Richard Bruce Wright  \n",
       "2          Carlo D'Este  \n",
       "3      Gina Bari Kolata  \n",
       "4       E. J. W. Barber  "
      ]
     },
     "execution_count": 2,
     "metadata": {},
     "output_type": "execute_result"
    }
   ],
   "source": [
    "books_df = pd.read_csv('data/BX_Books.csv', delimiter=';', encoding='ISO-8859-1')\n",
    "books_df = books_df[['ISBN', 'Book-Title', 'Book-Author']]\n",
    "books_df.head()"
   ]
  },
  {
   "cell_type": "markdown",
   "metadata": {},
   "source": [
    "Tiếp theo, ta kiểm tra giá trị bị thiếu trong từng cột."
   ]
  },
  {
   "cell_type": "code",
   "execution_count": 3,
   "metadata": {},
   "outputs": [
    {
     "data": {
      "text/html": [
       "<div>\n",
       "<style scoped>\n",
       "    .dataframe tbody tr th:only-of-type {\n",
       "        vertical-align: middle;\n",
       "    }\n",
       "\n",
       "    .dataframe tbody tr th {\n",
       "        vertical-align: top;\n",
       "    }\n",
       "\n",
       "    .dataframe thead th {\n",
       "        text-align: right;\n",
       "    }\n",
       "</style>\n",
       "<table border=\"1\" class=\"dataframe\">\n",
       "  <thead>\n",
       "    <tr style=\"text-align: right;\">\n",
       "      <th></th>\n",
       "      <th>ISBN</th>\n",
       "      <th>Book-Title</th>\n",
       "      <th>Book-Author</th>\n",
       "    </tr>\n",
       "  </thead>\n",
       "  <tbody>\n",
       "  </tbody>\n",
       "</table>\n",
       "</div>"
      ],
      "text/plain": [
       "Empty DataFrame\n",
       "Columns: [ISBN, Book-Title, Book-Author]\n",
       "Index: []"
      ]
     },
     "execution_count": 3,
     "metadata": {},
     "output_type": "execute_result"
    }
   ],
   "source": [
    "books_df[books_df['ISBN'].isna()]"
   ]
  },
  {
   "cell_type": "code",
   "execution_count": 4,
   "metadata": {},
   "outputs": [
    {
     "data": {
      "text/html": [
       "<div>\n",
       "<style scoped>\n",
       "    .dataframe tbody tr th:only-of-type {\n",
       "        vertical-align: middle;\n",
       "    }\n",
       "\n",
       "    .dataframe tbody tr th {\n",
       "        vertical-align: top;\n",
       "    }\n",
       "\n",
       "    .dataframe thead th {\n",
       "        text-align: right;\n",
       "    }\n",
       "</style>\n",
       "<table border=\"1\" class=\"dataframe\">\n",
       "  <thead>\n",
       "    <tr style=\"text-align: right;\">\n",
       "      <th></th>\n",
       "      <th>ISBN</th>\n",
       "      <th>Book-Title</th>\n",
       "      <th>Book-Author</th>\n",
       "    </tr>\n",
       "  </thead>\n",
       "  <tbody>\n",
       "  </tbody>\n",
       "</table>\n",
       "</div>"
      ],
      "text/plain": [
       "Empty DataFrame\n",
       "Columns: [ISBN, Book-Title, Book-Author]\n",
       "Index: []"
      ]
     },
     "execution_count": 4,
     "metadata": {},
     "output_type": "execute_result"
    }
   ],
   "source": [
    "books_df[books_df['Book-Title'].isna()]"
   ]
  },
  {
   "cell_type": "code",
   "execution_count": 5,
   "metadata": {},
   "outputs": [
    {
     "data": {
      "text/html": [
       "<div>\n",
       "<style scoped>\n",
       "    .dataframe tbody tr th:only-of-type {\n",
       "        vertical-align: middle;\n",
       "    }\n",
       "\n",
       "    .dataframe tbody tr th {\n",
       "        vertical-align: top;\n",
       "    }\n",
       "\n",
       "    .dataframe thead th {\n",
       "        text-align: right;\n",
       "    }\n",
       "</style>\n",
       "<table border=\"1\" class=\"dataframe\">\n",
       "  <thead>\n",
       "    <tr style=\"text-align: right;\">\n",
       "      <th></th>\n",
       "      <th>ISBN</th>\n",
       "      <th>Book-Title</th>\n",
       "      <th>Book-Author</th>\n",
       "    </tr>\n",
       "  </thead>\n",
       "  <tbody>\n",
       "    <tr>\n",
       "      <th>118038</th>\n",
       "      <td>0751352497</td>\n",
       "      <td>A+ Quiz Masters:01 Earth</td>\n",
       "      <td>NaN</td>\n",
       "    </tr>\n",
       "    <tr>\n",
       "      <th>187700</th>\n",
       "      <td>9627982032</td>\n",
       "      <td>The Credit Suisse Guide to Managing Your Perso...</td>\n",
       "      <td>NaN</td>\n",
       "    </tr>\n",
       "  </tbody>\n",
       "</table>\n",
       "</div>"
      ],
      "text/plain": [
       "              ISBN                                         Book-Title  \\\n",
       "118038  0751352497                           A+ Quiz Masters:01 Earth   \n",
       "187700  9627982032  The Credit Suisse Guide to Managing Your Perso...   \n",
       "\n",
       "       Book-Author  \n",
       "118038         NaN  \n",
       "187700         NaN  "
      ]
     },
     "execution_count": 5,
     "metadata": {},
     "output_type": "execute_result"
    }
   ],
   "source": [
    "books_df[books_df['Book-Author'].isna()]"
   ]
  },
  {
   "cell_type": "markdown",
   "metadata": {},
   "source": [
    "Ta thấy chỉ có một ít dòng thiếu giá trị `Book-Author` nên ta điền thủ công.\n",
    "\n",
    "Nguồn:\n",
    "- [Google Books - A+ Quiz Masters:01 Earth](https://www.google.com.vn/books/edition/A+_Quiz_Masters/eas_PQAACAAJ?hl=vi)\n",
    "- [Google Books - The Credit Suisse Guide to Managing Your Personal Wealth](https://www.google.com.vn/books/edition/The_Credit_Suisse_Guide_to_Managing_Your/4zx8AAAACAAJ)"
   ]
  },
  {
   "cell_type": "code",
   "execution_count": 6,
   "metadata": {},
   "outputs": [
    {
     "data": {
      "text/html": [
       "<div>\n",
       "<style scoped>\n",
       "    .dataframe tbody tr th:only-of-type {\n",
       "        vertical-align: middle;\n",
       "    }\n",
       "\n",
       "    .dataframe tbody tr th {\n",
       "        vertical-align: top;\n",
       "    }\n",
       "\n",
       "    .dataframe thead th {\n",
       "        text-align: right;\n",
       "    }\n",
       "</style>\n",
       "<table border=\"1\" class=\"dataframe\">\n",
       "  <thead>\n",
       "    <tr style=\"text-align: right;\">\n",
       "      <th></th>\n",
       "      <th>ISBN</th>\n",
       "      <th>Book-Title</th>\n",
       "      <th>Book-Author</th>\n",
       "    </tr>\n",
       "  </thead>\n",
       "  <tbody>\n",
       "  </tbody>\n",
       "</table>\n",
       "</div>"
      ],
      "text/plain": [
       "Empty DataFrame\n",
       "Columns: [ISBN, Book-Title, Book-Author]\n",
       "Index: []"
      ]
     },
     "execution_count": 6,
     "metadata": {},
     "output_type": "execute_result"
    }
   ],
   "source": [
    "books_df['Book-Author'][118038] = 'Penguin Books'\n",
    "books_df['Book-Author'][187700] = 'Larissa Downes, Sophie Pyott'\n",
    "books_df[books_df['Book-Author'].isna()]"
   ]
  },
  {
   "cell_type": "markdown",
   "metadata": {},
   "source": [
    "Tiếp theo, ta thực hiện một số thao tác trên chuỗi đối với 2 cột `Book-Title` và `Book-Author`:\n",
    "- Đưa về dạng viết thường và loại bỏ khoảng trắng thừa đối với cả 2 cột.\n",
    "- Đối với `Book-Author`, một sách có thể do nhiều tác giả tham gia viết. Trong trường hợp này, tên các tác giả được ngăn cách bởi dấu phẩy. Ta thực hiện tách các tên tác giả ra và đưa về dạng danh sách.\n",
    "- Đối với từng tên tác giả, ta rút gọn chúng nhằm làm giảm số lượng giá trị khác nhau. Cụ thể, ta loại bỏ tên đệm, chỉ giữ họ và tên (nếu có)."
   ]
  },
  {
   "cell_type": "code",
   "execution_count": 7,
   "metadata": {},
   "outputs": [
    {
     "data": {
      "text/html": [
       "<div>\n",
       "<style scoped>\n",
       "    .dataframe tbody tr th:only-of-type {\n",
       "        vertical-align: middle;\n",
       "    }\n",
       "\n",
       "    .dataframe tbody tr th {\n",
       "        vertical-align: top;\n",
       "    }\n",
       "\n",
       "    .dataframe thead th {\n",
       "        text-align: right;\n",
       "    }\n",
       "</style>\n",
       "<table border=\"1\" class=\"dataframe\">\n",
       "  <thead>\n",
       "    <tr style=\"text-align: right;\">\n",
       "      <th></th>\n",
       "      <th>ISBN</th>\n",
       "      <th>Book-Title</th>\n",
       "      <th>Book-Author</th>\n",
       "    </tr>\n",
       "  </thead>\n",
       "  <tbody>\n",
       "    <tr>\n",
       "      <th>0</th>\n",
       "      <td>0195153448</td>\n",
       "      <td>classical mythology</td>\n",
       "      <td>[mark morford]</td>\n",
       "    </tr>\n",
       "    <tr>\n",
       "      <th>1</th>\n",
       "      <td>0002005018</td>\n",
       "      <td>clara callan</td>\n",
       "      <td>[richard wright]</td>\n",
       "    </tr>\n",
       "    <tr>\n",
       "      <th>2</th>\n",
       "      <td>0060973129</td>\n",
       "      <td>decision in normandy</td>\n",
       "      <td>[carlo d'este]</td>\n",
       "    </tr>\n",
       "    <tr>\n",
       "      <th>3</th>\n",
       "      <td>0374157065</td>\n",
       "      <td>flu: the story of the great influenza pandemic...</td>\n",
       "      <td>[gina kolata]</td>\n",
       "    </tr>\n",
       "    <tr>\n",
       "      <th>4</th>\n",
       "      <td>0393045218</td>\n",
       "      <td>the mummies of urumchi</td>\n",
       "      <td>[e. barber]</td>\n",
       "    </tr>\n",
       "  </tbody>\n",
       "</table>\n",
       "</div>"
      ],
      "text/plain": [
       "         ISBN                                         Book-Title  \\\n",
       "0  0195153448                                classical mythology   \n",
       "1  0002005018                                       clara callan   \n",
       "2  0060973129                               decision in normandy   \n",
       "3  0374157065  flu: the story of the great influenza pandemic...   \n",
       "4  0393045218                             the mummies of urumchi   \n",
       "\n",
       "        Book-Author  \n",
       "0    [mark morford]  \n",
       "1  [richard wright]  \n",
       "2    [carlo d'este]  \n",
       "3     [gina kolata]  \n",
       "4       [e. barber]  "
      ]
     },
     "execution_count": 7,
     "metadata": {},
     "output_type": "execute_result"
    }
   ],
   "source": [
    "def normalize_name(name):\n",
    "    hn = HumanName(name)\n",
    "    return (hn.first + ' ' + hn.last).strip(' ')\n",
    "\n",
    "books_df['Book-Author'] = books_df['Book-Author'].str.lower().str.strip(' ').str.split(', ').apply(lambda names: [normalize_name(name) for name in names])\n",
    "books_df['Book-Title']  = books_df['Book-Title'].str.lower().str.strip(' ')\n",
    "\n",
    "books_df.head()"
   ]
  },
  {
   "cell_type": "markdown",
   "metadata": {},
   "source": [
    "Tiếp theo, ta xem xét thử trường hợp các cuốn sách trùng tên `Little Women`."
   ]
  },
  {
   "cell_type": "code",
   "execution_count": 8,
   "metadata": {},
   "outputs": [
    {
     "data": {
      "text/html": [
       "<div>\n",
       "<style scoped>\n",
       "    .dataframe tbody tr th:only-of-type {\n",
       "        vertical-align: middle;\n",
       "    }\n",
       "\n",
       "    .dataframe tbody tr th {\n",
       "        vertical-align: top;\n",
       "    }\n",
       "\n",
       "    .dataframe thead th {\n",
       "        text-align: right;\n",
       "    }\n",
       "</style>\n",
       "<table border=\"1\" class=\"dataframe\">\n",
       "  <thead>\n",
       "    <tr style=\"text-align: right;\">\n",
       "      <th></th>\n",
       "      <th>ISBN</th>\n",
       "      <th>Book-Title</th>\n",
       "      <th>Book-Author</th>\n",
       "    </tr>\n",
       "  </thead>\n",
       "  <tbody>\n",
       "    <tr>\n",
       "      <th>3952</th>\n",
       "      <td>185854176X</td>\n",
       "      <td>little women</td>\n",
       "      <td>[louisa atcott]</td>\n",
       "    </tr>\n",
       "    <tr>\n",
       "      <th>4330</th>\n",
       "      <td>0861782356</td>\n",
       "      <td>little women</td>\n",
       "      <td>[louisa alcott]</td>\n",
       "    </tr>\n",
       "    <tr>\n",
       "      <th>6100</th>\n",
       "      <td>0671517643</td>\n",
       "      <td>little women</td>\n",
       "      <td>[louisa alcott]</td>\n",
       "    </tr>\n",
       "    <tr>\n",
       "      <th>12228</th>\n",
       "      <td>0590203509</td>\n",
       "      <td>little women</td>\n",
       "      <td>[louisa alcott]</td>\n",
       "    </tr>\n",
       "    <tr>\n",
       "      <th>20677</th>\n",
       "      <td>0440447682</td>\n",
       "      <td>little women</td>\n",
       "      <td>[louisa alcott]</td>\n",
       "    </tr>\n",
       "    <tr>\n",
       "      <th>22456</th>\n",
       "      <td>0020412401</td>\n",
       "      <td>little women</td>\n",
       "      <td>[louisa alcott]</td>\n",
       "    </tr>\n",
       "    <tr>\n",
       "      <th>32838</th>\n",
       "      <td>1550134140</td>\n",
       "      <td>little women</td>\n",
       "      <td>[louisa alcott]</td>\n",
       "    </tr>\n",
       "    <tr>\n",
       "      <th>52213</th>\n",
       "      <td>0451529308</td>\n",
       "      <td>little women</td>\n",
       "      <td>[louisa alcott]</td>\n",
       "    </tr>\n",
       "    <tr>\n",
       "      <th>52554</th>\n",
       "      <td>0451518144</td>\n",
       "      <td>little women</td>\n",
       "      <td>[louisa alcott]</td>\n",
       "    </tr>\n",
       "    <tr>\n",
       "      <th>53361</th>\n",
       "      <td>0590437976</td>\n",
       "      <td>little women</td>\n",
       "      <td>[louisa alcott]</td>\n",
       "    </tr>\n",
       "    <tr>\n",
       "      <th>57435</th>\n",
       "      <td>0195813898</td>\n",
       "      <td>little women</td>\n",
       "      <td>[alcott]</td>\n",
       "    </tr>\n",
       "    <tr>\n",
       "      <th>72171</th>\n",
       "      <td>0785788727</td>\n",
       "      <td>little women</td>\n",
       "      <td>[louisa alcott]</td>\n",
       "    </tr>\n",
       "    <tr>\n",
       "      <th>82568</th>\n",
       "      <td>0448110199</td>\n",
       "      <td>little women</td>\n",
       "      <td>[louisa alcott]</td>\n",
       "    </tr>\n",
       "    <tr>\n",
       "      <th>84810</th>\n",
       "      <td>0812523334</td>\n",
       "      <td>little women</td>\n",
       "      <td>[louisa alcott]</td>\n",
       "    </tr>\n",
       "    <tr>\n",
       "      <th>110751</th>\n",
       "      <td>0394562798</td>\n",
       "      <td>little women</td>\n",
       "      <td>[louisa alcott]</td>\n",
       "    </tr>\n",
       "    <tr>\n",
       "      <th>118224</th>\n",
       "      <td>1557042160</td>\n",
       "      <td>little women</td>\n",
       "      <td>[laurie lawlor]</td>\n",
       "    </tr>\n",
       "    <tr>\n",
       "      <th>124847</th>\n",
       "      <td>0590433423</td>\n",
       "      <td>little women</td>\n",
       "      <td>[louisa alcott]</td>\n",
       "    </tr>\n",
       "    <tr>\n",
       "      <th>142267</th>\n",
       "      <td>0448054663</td>\n",
       "      <td>little women</td>\n",
       "      <td>[louisa alcott]</td>\n",
       "    </tr>\n",
       "    <tr>\n",
       "      <th>142308</th>\n",
       "      <td>0448023644</td>\n",
       "      <td>little women</td>\n",
       "      <td>[louisa alcott]</td>\n",
       "    </tr>\n",
       "    <tr>\n",
       "      <th>142311</th>\n",
       "      <td>0590404989</td>\n",
       "      <td>little women</td>\n",
       "      <td>[louisa alcott]</td>\n",
       "    </tr>\n",
       "    <tr>\n",
       "      <th>163556</th>\n",
       "      <td>0681400552</td>\n",
       "      <td>little women</td>\n",
       "      <td>[louisa alcott]</td>\n",
       "    </tr>\n",
       "    <tr>\n",
       "      <th>168791</th>\n",
       "      <td>1593081081</td>\n",
       "      <td>little women</td>\n",
       "      <td>[louisa alcott]</td>\n",
       "    </tr>\n",
       "    <tr>\n",
       "      <th>189674</th>\n",
       "      <td>1568651198</td>\n",
       "      <td>little women</td>\n",
       "      <td>[louisa alcott]</td>\n",
       "    </tr>\n",
       "    <tr>\n",
       "      <th>212783</th>\n",
       "      <td>0553211153</td>\n",
       "      <td>little women</td>\n",
       "      <td>[louisa alcott]</td>\n",
       "    </tr>\n",
       "    <tr>\n",
       "      <th>224572</th>\n",
       "      <td>0448172569</td>\n",
       "      <td>little women</td>\n",
       "      <td>[louisa alcott]</td>\n",
       "    </tr>\n",
       "    <tr>\n",
       "      <th>258070</th>\n",
       "      <td>0590225375</td>\n",
       "      <td>little women</td>\n",
       "      <td>[louisa alcott]</td>\n",
       "    </tr>\n",
       "  </tbody>\n",
       "</table>\n",
       "</div>"
      ],
      "text/plain": [
       "              ISBN    Book-Title      Book-Author\n",
       "3952    185854176X  little women  [louisa atcott]\n",
       "4330    0861782356  little women  [louisa alcott]\n",
       "6100    0671517643  little women  [louisa alcott]\n",
       "12228   0590203509  little women  [louisa alcott]\n",
       "20677   0440447682  little women  [louisa alcott]\n",
       "22456   0020412401  little women  [louisa alcott]\n",
       "32838   1550134140  little women  [louisa alcott]\n",
       "52213   0451529308  little women  [louisa alcott]\n",
       "52554   0451518144  little women  [louisa alcott]\n",
       "53361   0590437976  little women  [louisa alcott]\n",
       "57435   0195813898  little women         [alcott]\n",
       "72171   0785788727  little women  [louisa alcott]\n",
       "82568   0448110199  little women  [louisa alcott]\n",
       "84810   0812523334  little women  [louisa alcott]\n",
       "110751  0394562798  little women  [louisa alcott]\n",
       "118224  1557042160  little women  [laurie lawlor]\n",
       "124847  0590433423  little women  [louisa alcott]\n",
       "142267  0448054663  little women  [louisa alcott]\n",
       "142308  0448023644  little women  [louisa alcott]\n",
       "142311  0590404989  little women  [louisa alcott]\n",
       "163556  0681400552  little women  [louisa alcott]\n",
       "168791  1593081081  little women  [louisa alcott]\n",
       "189674  1568651198  little women  [louisa alcott]\n",
       "212783  0553211153  little women  [louisa alcott]\n",
       "224572  0448172569  little women  [louisa alcott]\n",
       "258070  0590225375  little women  [louisa alcott]"
      ]
     },
     "execution_count": 8,
     "metadata": {},
     "output_type": "execute_result"
    }
   ],
   "source": [
    "books_df[books_df['Book-Title'] == 'little women']"
   ]
  },
  {
   "cell_type": "markdown",
   "metadata": {},
   "source": [
    "Ta nhận thấy các cuốn sách này cùng tác giả, chỉ khác nhau ở cách viết (có hoặc không có họ, họ viết trước hoặc sau tên, ...).\n",
    "\n",
    "Để thống nhất tên tác giả, ta cần phải thay thế các tên tác giả bằng tên khác có độ tương đồng cao xuất hiện trước nó. Độ tương đồng được tính bằng thuật toán `Fuzzy Matching`."
   ]
  },
  {
   "cell_type": "code",
   "execution_count": 9,
   "metadata": {},
   "outputs": [
    {
     "data": {
      "text/plain": [
       "'lousa alcott'"
      ]
     },
     "execution_count": 9,
     "metadata": {},
     "output_type": "execute_result"
    }
   ],
   "source": [
    "authors = np.array(list(set(books_df['Book-Author'].explode())))\n",
    "\n",
    "def first_match(item, items, threshold=90, depth=0):\n",
    "    gen = process.extractWithoutOrder(item, items, scorer=fuzz.token_set_ratio, score_cutoff=threshold)\n",
    "    result = next(gen, (item,))[0]\n",
    "\n",
    "    return result\n",
    "\n",
    "first_match('alcott', authors)"
   ]
  },
  {
   "cell_type": "code",
   "execution_count": 10,
   "metadata": {},
   "outputs": [
    {
     "data": {
      "text/plain": [
       "(93348,)"
      ]
     },
     "execution_count": 10,
     "metadata": {},
     "output_type": "execute_result"
    }
   ],
   "source": [
    "authors.shape"
   ]
  },
  {
   "cell_type": "markdown",
   "metadata": {},
   "source": [
    "Trong dữ liệu này có hơn 90000 tên tác giả khác nhau, tức là khá nhiều để xử lý trực tiếp. Chính vì thế, ta sử dụng `pyspark` để phân chia dữ liệu thành nhiều cụm phân tán và dùng nhiều core để xử lý song song.\n",
    "\n",
    "Bước đầu tiên là chia tập tên tác giả thành từng cụm sao cho các tên gần giống nhau nằm trong 1 cụm."
   ]
  },
  {
   "cell_type": "code",
   "execution_count": 11,
   "metadata": {},
   "outputs": [
    {
     "data": {
      "text/plain": [
       "47"
      ]
     },
     "execution_count": 11,
     "metadata": {},
     "output_type": "execute_result"
    }
   ],
   "source": [
    "def partition(items, n=2000):\n",
    "    if len(items) == 0:\n",
    "        return []\n",
    "\n",
    "    if len(items) <= 2000:\n",
    "        return [items]\n",
    "\n",
    "    selected = random.choice(items)\n",
    "    sims = np.array([fuzz.ratio(selected, item) for item in items])\n",
    "    idxs = sims.argsort()[-n:][::-1]\n",
    "    return [items[idxs]] + partition(np.delete(items, idxs), n=n)\n",
    "\n",
    "authors_partition = partition(authors)\n",
    "len(authors_partition)"
   ]
  },
  {
   "cell_type": "markdown",
   "metadata": {},
   "source": [
    "Tiếp theo ta tạo dataframe `pyspark` bao gồm 2 cột:\n",
    "- `Author`: tên tác giả\n",
    "- `Partition`: ID cụm"
   ]
  },
  {
   "cell_type": "code",
   "execution_count": 12,
   "metadata": {},
   "outputs": [
    {
     "data": {
      "text/html": [
       "<table border='1'>\n",
       "<tr><th>Author</th><th>Partition</th></tr>\n",
       "<tr><td></td><td>0</td></tr>\n",
       "<tr><td>barbara hyman</td><td>0</td></tr>\n",
       "<tr><td>david boaz</td><td>0</td></tr>\n",
       "<tr><td>patricia benke</td><td>0</td></tr>\n",
       "<tr><td>jos&atilde;&copy; henr&atilde;&shy;quez</td><td>0</td></tr>\n",
       "</table>\n"
      ],
      "text/plain": [
       "+----------------+---------+\n",
       "|          Author|Partition|\n",
       "+----------------+---------+\n",
       "|                |        0|\n",
       "|   barbara hyman|        0|\n",
       "|      david boaz|        0|\n",
       "|  patricia benke|        0|\n",
       "|josã© henrã­quez|        0|\n",
       "+----------------+---------+"
      ]
     },
     "execution_count": 12,
     "metadata": {},
     "output_type": "execute_result"
    }
   ],
   "source": [
    "partition_index = []\n",
    "for index, author_groups in enumerate(authors_partition):\n",
    "    partition_index += [index] * len(author_groups)\n",
    "\n",
    "data = [Row(Author=str(name), Partition=partition_index) for name, partition_index in zip(authors, partition_index)]\n",
    "\n",
    "author_names_df = spark.createDataFrame(data)\n",
    "author_names_df.limit(5)"
   ]
  },
  {
   "cell_type": "markdown",
   "metadata": {},
   "source": [
    "Cuối cùng, ta thực hiện tìm tên thay thế trên từng cụm đã chia."
   ]
  },
  {
   "cell_type": "code",
   "execution_count": 13,
   "metadata": {},
   "outputs": [
    {
     "name": "stderr",
     "output_type": "stream",
     "text": [
      "C:\\Users\\Asus\\AppData\\Roaming\\Python\\Python310\\site-packages\\pyspark\\sql\\pandas\\group_ops.py:104: UserWarning: It is preferred to use 'applyInPandas' over this API. This API will be deprecated in the future releases. See SPARK-28264 for more details.\n",
      "  warnings.warn(\n"
     ]
    },
    {
     "data": {
      "text/html": [
       "<div>\n",
       "<style scoped>\n",
       "    .dataframe tbody tr th:only-of-type {\n",
       "        vertical-align: middle;\n",
       "    }\n",
       "\n",
       "    .dataframe tbody tr th {\n",
       "        vertical-align: top;\n",
       "    }\n",
       "\n",
       "    .dataframe thead th {\n",
       "        text-align: right;\n",
       "    }\n",
       "</style>\n",
       "<table border=\"1\" class=\"dataframe\">\n",
       "  <thead>\n",
       "    <tr style=\"text-align: right;\">\n",
       "      <th></th>\n",
       "      <th>Author</th>\n",
       "      <th>Author-New</th>\n",
       "    </tr>\n",
       "  </thead>\n",
       "  <tbody>\n",
       "    <tr>\n",
       "      <th>391</th>\n",
       "      <td>w.c. winter</td>\n",
       "      <td>w.</td>\n",
       "    </tr>\n",
       "    <tr>\n",
       "      <th>427</th>\n",
       "      <td>w. rouse</td>\n",
       "      <td>w.</td>\n",
       "    </tr>\n",
       "    <tr>\n",
       "      <th>565</th>\n",
       "      <td>p.c.w. davies</td>\n",
       "      <td>w.</td>\n",
       "    </tr>\n",
       "    <tr>\n",
       "      <th>727</th>\n",
       "      <td>ronda gates</td>\n",
       "      <td>gates</td>\n",
       "    </tr>\n",
       "    <tr>\n",
       "      <th>759</th>\n",
       "      <td>kennedy</td>\n",
       "      <td>pagan kennedy</td>\n",
       "    </tr>\n",
       "    <tr>\n",
       "      <th>...</th>\n",
       "      <td>...</td>\n",
       "      <td>...</td>\n",
       "    </tr>\n",
       "    <tr>\n",
       "      <th>92997</th>\n",
       "      <td>kenneth</td>\n",
       "      <td>kenneth janda</td>\n",
       "    </tr>\n",
       "    <tr>\n",
       "      <th>93108</th>\n",
       "      <td>sullivan k</td>\n",
       "      <td>o'sullivan</td>\n",
       "    </tr>\n",
       "    <tr>\n",
       "      <th>93115</th>\n",
       "      <td>utamaro</td>\n",
       "      <td>utamaro kitagawa</td>\n",
       "    </tr>\n",
       "    <tr>\n",
       "      <th>93183</th>\n",
       "      <td>jim brown</td>\n",
       "      <td>brown brown</td>\n",
       "    </tr>\n",
       "    <tr>\n",
       "      <th>93189</th>\n",
       "      <td>kenneth phillips</td>\n",
       "      <td>kenneth</td>\n",
       "    </tr>\n",
       "  </tbody>\n",
       "</table>\n",
       "<p>1674 rows × 2 columns</p>\n",
       "</div>"
      ],
      "text/plain": [
       "                 Author        Author-New\n",
       "391         w.c. winter                w.\n",
       "427            w. rouse                w.\n",
       "565       p.c.w. davies                w.\n",
       "727         ronda gates             gates\n",
       "759             kennedy     pagan kennedy\n",
       "...                 ...               ...\n",
       "92997           kenneth     kenneth janda\n",
       "93108        sullivan k        o'sullivan\n",
       "93115           utamaro  utamaro kitagawa\n",
       "93183         jim brown       brown brown\n",
       "93189  kenneth phillips           kenneth\n",
       "\n",
       "[1674 rows x 2 columns]"
      ]
     },
     "execution_count": 13,
     "metadata": {},
     "output_type": "execute_result"
    }
   ],
   "source": [
    "output_schema = StructType([\n",
    "    StructField('Author', StringType()),\n",
    "    StructField('Author-New', StringType())\n",
    "])\n",
    "\n",
    "@pandas_udf(output_schema, PandasUDFType.GROUPED_MAP)\n",
    "def name_matching(data):\n",
    "    data['Author-New'] = data['Author'].apply(lambda author: str(first_match(author, data['Author'])))\n",
    "    return data[['Author', 'Author-New']]\n",
    "\n",
    "result_df = author_names_df.groupby('Partition').apply(name_matching).toPandas()\n",
    "result_df[result_df['Author'] != result_df['Author-New']]"
   ]
  },
  {
   "cell_type": "code",
   "execution_count": 14,
   "metadata": {},
   "outputs": [],
   "source": [
    "result_df.to_csv('data_preprocessed/authors_map.csv', index=False)"
   ]
  },
  {
   "cell_type": "markdown",
   "metadata": {},
   "source": [
    "Ta thay thế tên các tác giả trong dữ liệu bằng tên mới."
   ]
  },
  {
   "cell_type": "code",
   "execution_count": 15,
   "metadata": {},
   "outputs": [
    {
     "data": {
      "text/html": [
       "<div>\n",
       "<style scoped>\n",
       "    .dataframe tbody tr th:only-of-type {\n",
       "        vertical-align: middle;\n",
       "    }\n",
       "\n",
       "    .dataframe tbody tr th {\n",
       "        vertical-align: top;\n",
       "    }\n",
       "\n",
       "    .dataframe thead th {\n",
       "        text-align: right;\n",
       "    }\n",
       "</style>\n",
       "<table border=\"1\" class=\"dataframe\">\n",
       "  <thead>\n",
       "    <tr style=\"text-align: right;\">\n",
       "      <th></th>\n",
       "      <th>ISBN</th>\n",
       "      <th>Book-Title</th>\n",
       "      <th>Book-Author</th>\n",
       "    </tr>\n",
       "  </thead>\n",
       "  <tbody>\n",
       "    <tr>\n",
       "      <th>0</th>\n",
       "      <td>0000913154</td>\n",
       "      <td>the way things work: an illustrated encycloped...</td>\n",
       "      <td>[c. van amerongen]</td>\n",
       "    </tr>\n",
       "    <tr>\n",
       "      <th>1</th>\n",
       "      <td>0001010565</td>\n",
       "      <td>mog's christmas</td>\n",
       "      <td>[judith kerr]</td>\n",
       "    </tr>\n",
       "    <tr>\n",
       "      <th>2</th>\n",
       "      <td>0001046438</td>\n",
       "      <td>liar</td>\n",
       "      <td>[stephen fry]</td>\n",
       "    </tr>\n",
       "    <tr>\n",
       "      <th>3</th>\n",
       "      <td>0001046713</td>\n",
       "      <td>twopence to cross the mersey</td>\n",
       "      <td>[helen forrester]</td>\n",
       "    </tr>\n",
       "    <tr>\n",
       "      <th>4</th>\n",
       "      <td>000104687X</td>\n",
       "      <td>t.s. eliot reading \\the wasteland\\\" and other ...</td>\n",
       "      <td>[t.s. eliot]</td>\n",
       "    </tr>\n",
       "  </tbody>\n",
       "</table>\n",
       "</div>"
      ],
      "text/plain": [
       "         ISBN                                         Book-Title  \\\n",
       "0  0000913154  the way things work: an illustrated encycloped...   \n",
       "1  0001010565                                    mog's christmas   \n",
       "2  0001046438                                               liar   \n",
       "3  0001046713                       twopence to cross the mersey   \n",
       "4  000104687X  t.s. eliot reading \\the wasteland\\\" and other ...   \n",
       "\n",
       "          Book-Author  \n",
       "0  [c. van amerongen]  \n",
       "1       [judith kerr]  \n",
       "2       [stephen fry]  \n",
       "3   [helen forrester]  \n",
       "4        [t.s. eliot]  "
      ]
     },
     "execution_count": 15,
     "metadata": {},
     "output_type": "execute_result"
    }
   ],
   "source": [
    "new_books_df = pd.merge(\n",
    "    books_df.explode('Book-Author'), \n",
    "    result_df, \n",
    "    left_on='Book-Author', right_on='Author'\n",
    ")[['ISBN', 'Book-Title', 'Author-New']] \\\n",
    "    .groupby(['ISBN', 'Book-Title']).agg({'Author-New': lambda x: x.tolist()}) \\\n",
    "    .rename(columns={'Author-New': 'Book-Author'}) \\\n",
    "    .reset_index()\n",
    "\n",
    "new_books_df.head()"
   ]
  },
  {
   "cell_type": "code",
   "execution_count": 16,
   "metadata": {},
   "outputs": [
    {
     "data": {
      "text/plain": [
       "(91842,)"
      ]
     },
     "execution_count": 16,
     "metadata": {},
     "output_type": "execute_result"
    }
   ],
   "source": [
    "new_authors = np.array(list(set(new_books_df['Book-Author'].explode())))\n",
    "new_authors.shape"
   ]
  },
  {
   "cell_type": "markdown",
   "metadata": {},
   "source": [
    "Trong dữ liệu có nhiều sách trùng tên và tác giả cần loại bỏ."
   ]
  },
  {
   "cell_type": "code",
   "execution_count": 17,
   "metadata": {},
   "outputs": [
    {
     "data": {
      "text/html": [
       "<div>\n",
       "<style scoped>\n",
       "    .dataframe tbody tr th:only-of-type {\n",
       "        vertical-align: middle;\n",
       "    }\n",
       "\n",
       "    .dataframe tbody tr th {\n",
       "        vertical-align: top;\n",
       "    }\n",
       "\n",
       "    .dataframe thead th {\n",
       "        text-align: right;\n",
       "    }\n",
       "</style>\n",
       "<table border=\"1\" class=\"dataframe\">\n",
       "  <thead>\n",
       "    <tr style=\"text-align: right;\">\n",
       "      <th></th>\n",
       "      <th>ISBN</th>\n",
       "      <th>Book-Title</th>\n",
       "      <th>Book-Author</th>\n",
       "    </tr>\n",
       "  </thead>\n",
       "  <tbody>\n",
       "    <tr>\n",
       "      <th>0</th>\n",
       "      <td>0000913154</td>\n",
       "      <td>the way things work: an illustrated encycloped...</td>\n",
       "      <td>[c. van amerongen]</td>\n",
       "    </tr>\n",
       "    <tr>\n",
       "      <th>1</th>\n",
       "      <td>0001010565</td>\n",
       "      <td>mog's christmas</td>\n",
       "      <td>[judith kerr]</td>\n",
       "    </tr>\n",
       "    <tr>\n",
       "      <th>2</th>\n",
       "      <td>0001046438</td>\n",
       "      <td>liar</td>\n",
       "      <td>[stephen fry]</td>\n",
       "    </tr>\n",
       "    <tr>\n",
       "      <th>3</th>\n",
       "      <td>0001046713</td>\n",
       "      <td>twopence to cross the mersey</td>\n",
       "      <td>[helen forrester]</td>\n",
       "    </tr>\n",
       "    <tr>\n",
       "      <th>4</th>\n",
       "      <td>000104687X</td>\n",
       "      <td>t.s. eliot reading \\the wasteland\\\" and other ...</td>\n",
       "      <td>[t.s. eliot]</td>\n",
       "    </tr>\n",
       "  </tbody>\n",
       "</table>\n",
       "</div>"
      ],
      "text/plain": [
       "         ISBN                                         Book-Title  \\\n",
       "0  0000913154  the way things work: an illustrated encycloped...   \n",
       "1  0001010565                                    mog's christmas   \n",
       "2  0001046438                                               liar   \n",
       "3  0001046713                       twopence to cross the mersey   \n",
       "4  000104687X  t.s. eliot reading \\the wasteland\\\" and other ...   \n",
       "\n",
       "          Book-Author  \n",
       "0  [c. van amerongen]  \n",
       "1       [judith kerr]  \n",
       "2       [stephen fry]  \n",
       "3   [helen forrester]  \n",
       "4        [t.s. eliot]  "
      ]
     },
     "execution_count": 17,
     "metadata": {},
     "output_type": "execute_result"
    }
   ],
   "source": [
    "new_books_df['Authors'] = new_books_df['Book-Author'].apply(lambda l: sorted(l)).str.join(', ')\n",
    "\n",
    "duplicated_isbns = new_books_df['ISBN'][new_books_df.duplicated(['Book-Title', 'Authors'])]\n",
    "new_books_df = new_books_df.drop_duplicates(['Book-Title', 'Authors'], keep='first')[['ISBN', 'Book-Title', 'Book-Author']]\n",
    "\n",
    "new_books_df.head()"
   ]
  },
  {
   "cell_type": "code",
   "execution_count": 18,
   "metadata": {},
   "outputs": [],
   "source": [
    "books_df = new_books_df\n",
    "books_df.to_csv('data_preprocessed/books.csv', index=False)"
   ]
  },
  {
   "cell_type": "markdown",
   "metadata": {},
   "source": [
    "### DỮ LIỆU NGƯỜI DÙNG (BX_Users.csv)"
   ]
  },
  {
   "cell_type": "markdown",
   "metadata": {},
   "source": [
    "Tập dữ liệu người dùng `BX_Users.csv` bao gồm các cột:\n",
    "- `User-ID`: ID của người dùng\n",
    "- `Location`: Địa điểm (hay khu vực) của người dùng\n",
    "- `Age`: Tuổi của người dùng"
   ]
  },
  {
   "cell_type": "code",
   "execution_count": 19,
   "metadata": {},
   "outputs": [
    {
     "data": {
      "text/html": [
       "<div>\n",
       "<style scoped>\n",
       "    .dataframe tbody tr th:only-of-type {\n",
       "        vertical-align: middle;\n",
       "    }\n",
       "\n",
       "    .dataframe tbody tr th {\n",
       "        vertical-align: top;\n",
       "    }\n",
       "\n",
       "    .dataframe thead th {\n",
       "        text-align: right;\n",
       "    }\n",
       "</style>\n",
       "<table border=\"1\" class=\"dataframe\">\n",
       "  <thead>\n",
       "    <tr style=\"text-align: right;\">\n",
       "      <th></th>\n",
       "      <th>User-ID</th>\n",
       "      <th>Location</th>\n",
       "      <th>Age</th>\n",
       "    </tr>\n",
       "  </thead>\n",
       "  <tbody>\n",
       "    <tr>\n",
       "      <th>0</th>\n",
       "      <td>1</td>\n",
       "      <td>nyc, new york, usa</td>\n",
       "      <td>NaN</td>\n",
       "    </tr>\n",
       "    <tr>\n",
       "      <th>1</th>\n",
       "      <td>2</td>\n",
       "      <td>stockton, california, usa</td>\n",
       "      <td>18.0</td>\n",
       "    </tr>\n",
       "    <tr>\n",
       "      <th>2</th>\n",
       "      <td>3</td>\n",
       "      <td>moscow, yukon territory, russia</td>\n",
       "      <td>NaN</td>\n",
       "    </tr>\n",
       "    <tr>\n",
       "      <th>3</th>\n",
       "      <td>4</td>\n",
       "      <td>porto, v.n.gaia, portugal</td>\n",
       "      <td>17.0</td>\n",
       "    </tr>\n",
       "    <tr>\n",
       "      <th>4</th>\n",
       "      <td>5</td>\n",
       "      <td>farnborough, hants, united kingdom</td>\n",
       "      <td>NaN</td>\n",
       "    </tr>\n",
       "  </tbody>\n",
       "</table>\n",
       "</div>"
      ],
      "text/plain": [
       "   User-ID                            Location   Age\n",
       "0        1                  nyc, new york, usa   NaN\n",
       "1        2           stockton, california, usa  18.0\n",
       "2        3     moscow, yukon territory, russia   NaN\n",
       "3        4           porto, v.n.gaia, portugal  17.0\n",
       "4        5  farnborough, hants, united kingdom   NaN"
      ]
     },
     "execution_count": 19,
     "metadata": {},
     "output_type": "execute_result"
    }
   ],
   "source": [
    "users_df = pd.read_csv('data/BX_Users.csv', delimiter=';', encoding='ISO-8859-1')\n",
    "users_df.head()"
   ]
  },
  {
   "cell_type": "markdown",
   "metadata": {},
   "source": [
    "Tiếp theo, ta kiểm tra dữ liệu bị thiếu trong từng cột"
   ]
  },
  {
   "cell_type": "code",
   "execution_count": 20,
   "metadata": {},
   "outputs": [
    {
     "data": {
      "text/html": [
       "<div>\n",
       "<style scoped>\n",
       "    .dataframe tbody tr th:only-of-type {\n",
       "        vertical-align: middle;\n",
       "    }\n",
       "\n",
       "    .dataframe tbody tr th {\n",
       "        vertical-align: top;\n",
       "    }\n",
       "\n",
       "    .dataframe thead th {\n",
       "        text-align: right;\n",
       "    }\n",
       "</style>\n",
       "<table border=\"1\" class=\"dataframe\">\n",
       "  <thead>\n",
       "    <tr style=\"text-align: right;\">\n",
       "      <th></th>\n",
       "      <th>User-ID</th>\n",
       "      <th>Location</th>\n",
       "      <th>Age</th>\n",
       "    </tr>\n",
       "  </thead>\n",
       "  <tbody>\n",
       "  </tbody>\n",
       "</table>\n",
       "</div>"
      ],
      "text/plain": [
       "Empty DataFrame\n",
       "Columns: [User-ID, Location, Age]\n",
       "Index: []"
      ]
     },
     "execution_count": 20,
     "metadata": {},
     "output_type": "execute_result"
    }
   ],
   "source": [
    "users_df[users_df['User-ID'].isna()]"
   ]
  },
  {
   "cell_type": "code",
   "execution_count": 21,
   "metadata": {},
   "outputs": [
    {
     "data": {
      "text/html": [
       "<div>\n",
       "<style scoped>\n",
       "    .dataframe tbody tr th:only-of-type {\n",
       "        vertical-align: middle;\n",
       "    }\n",
       "\n",
       "    .dataframe tbody tr th {\n",
       "        vertical-align: top;\n",
       "    }\n",
       "\n",
       "    .dataframe thead th {\n",
       "        text-align: right;\n",
       "    }\n",
       "</style>\n",
       "<table border=\"1\" class=\"dataframe\">\n",
       "  <thead>\n",
       "    <tr style=\"text-align: right;\">\n",
       "      <th></th>\n",
       "      <th>User-ID</th>\n",
       "      <th>Location</th>\n",
       "      <th>Age</th>\n",
       "    </tr>\n",
       "  </thead>\n",
       "  <tbody>\n",
       "  </tbody>\n",
       "</table>\n",
       "</div>"
      ],
      "text/plain": [
       "Empty DataFrame\n",
       "Columns: [User-ID, Location, Age]\n",
       "Index: []"
      ]
     },
     "execution_count": 21,
     "metadata": {},
     "output_type": "execute_result"
    }
   ],
   "source": [
    "users_df[users_df['Location'].isna()]"
   ]
  },
  {
   "cell_type": "code",
   "execution_count": 22,
   "metadata": {},
   "outputs": [
    {
     "data": {
      "text/html": [
       "<div>\n",
       "<style scoped>\n",
       "    .dataframe tbody tr th:only-of-type {\n",
       "        vertical-align: middle;\n",
       "    }\n",
       "\n",
       "    .dataframe tbody tr th {\n",
       "        vertical-align: top;\n",
       "    }\n",
       "\n",
       "    .dataframe thead th {\n",
       "        text-align: right;\n",
       "    }\n",
       "</style>\n",
       "<table border=\"1\" class=\"dataframe\">\n",
       "  <thead>\n",
       "    <tr style=\"text-align: right;\">\n",
       "      <th></th>\n",
       "      <th>User-ID</th>\n",
       "      <th>Location</th>\n",
       "      <th>Age</th>\n",
       "    </tr>\n",
       "  </thead>\n",
       "  <tbody>\n",
       "    <tr>\n",
       "      <th>0</th>\n",
       "      <td>1</td>\n",
       "      <td>nyc, new york, usa</td>\n",
       "      <td>NaN</td>\n",
       "    </tr>\n",
       "    <tr>\n",
       "      <th>2</th>\n",
       "      <td>3</td>\n",
       "      <td>moscow, yukon territory, russia</td>\n",
       "      <td>NaN</td>\n",
       "    </tr>\n",
       "    <tr>\n",
       "      <th>4</th>\n",
       "      <td>5</td>\n",
       "      <td>farnborough, hants, united kingdom</td>\n",
       "      <td>NaN</td>\n",
       "    </tr>\n",
       "    <tr>\n",
       "      <th>6</th>\n",
       "      <td>7</td>\n",
       "      <td>washington, dc, usa</td>\n",
       "      <td>NaN</td>\n",
       "    </tr>\n",
       "    <tr>\n",
       "      <th>7</th>\n",
       "      <td>8</td>\n",
       "      <td>timmins, ontario, canada</td>\n",
       "      <td>NaN</td>\n",
       "    </tr>\n",
       "    <tr>\n",
       "      <th>...</th>\n",
       "      <td>...</td>\n",
       "      <td>...</td>\n",
       "      <td>...</td>\n",
       "    </tr>\n",
       "    <tr>\n",
       "      <th>278849</th>\n",
       "      <td>278850</td>\n",
       "      <td>sergnano, lombardia, italy</td>\n",
       "      <td>NaN</td>\n",
       "    </tr>\n",
       "    <tr>\n",
       "      <th>278853</th>\n",
       "      <td>278854</td>\n",
       "      <td>portland, oregon, usa</td>\n",
       "      <td>NaN</td>\n",
       "    </tr>\n",
       "    <tr>\n",
       "      <th>278855</th>\n",
       "      <td>278856</td>\n",
       "      <td>brampton, ontario, canada</td>\n",
       "      <td>NaN</td>\n",
       "    </tr>\n",
       "    <tr>\n",
       "      <th>278856</th>\n",
       "      <td>278857</td>\n",
       "      <td>knoxville, tennessee, usa</td>\n",
       "      <td>NaN</td>\n",
       "    </tr>\n",
       "    <tr>\n",
       "      <th>278857</th>\n",
       "      <td>278858</td>\n",
       "      <td>dublin, n/a, ireland</td>\n",
       "      <td>NaN</td>\n",
       "    </tr>\n",
       "  </tbody>\n",
       "</table>\n",
       "<p>110762 rows × 3 columns</p>\n",
       "</div>"
      ],
      "text/plain": [
       "        User-ID                            Location  Age\n",
       "0             1                  nyc, new york, usa  NaN\n",
       "2             3     moscow, yukon territory, russia  NaN\n",
       "4             5  farnborough, hants, united kingdom  NaN\n",
       "6             7                 washington, dc, usa  NaN\n",
       "7             8            timmins, ontario, canada  NaN\n",
       "...         ...                                 ...  ...\n",
       "278849   278850          sergnano, lombardia, italy  NaN\n",
       "278853   278854               portland, oregon, usa  NaN\n",
       "278855   278856           brampton, ontario, canada  NaN\n",
       "278856   278857           knoxville, tennessee, usa  NaN\n",
       "278857   278858                dublin, n/a, ireland  NaN\n",
       "\n",
       "[110762 rows x 3 columns]"
      ]
     },
     "execution_count": 22,
     "metadata": {},
     "output_type": "execute_result"
    }
   ],
   "source": [
    "users_df[users_df['Age'].isna()]"
   ]
  },
  {
   "cell_type": "markdown",
   "metadata": {},
   "source": [
    "Cột `Age` thiếu khá nhiều giá trị (gần 40%). Ta sẽ để ý khi làm việc với cột này."
   ]
  },
  {
   "cell_type": "markdown",
   "metadata": {},
   "source": [
    "Từ cột `Location`, ta rút ra thông tin về quốc gia của người dùng và lưu vào cột mới `Country`."
   ]
  },
  {
   "cell_type": "code",
   "execution_count": 23,
   "metadata": {},
   "outputs": [
    {
     "data": {
      "text/plain": [
       "'canada'"
      ]
     },
     "execution_count": 23,
     "metadata": {},
     "output_type": "execute_result"
    }
   ],
   "source": [
    "def find_country(location):\n",
    "    if location is None:\n",
    "        return None\n",
    "    location = location.split(', ')\n",
    "    if len(location) <= 0:\n",
    "        return None\n",
    "    return location[-1].strip()\n",
    "\n",
    "find_country('brampton, ontario, canada')"
   ]
  },
  {
   "cell_type": "code",
   "execution_count": 24,
   "metadata": {},
   "outputs": [
    {
     "data": {
      "text/html": [
       "<div>\n",
       "<style scoped>\n",
       "    .dataframe tbody tr th:only-of-type {\n",
       "        vertical-align: middle;\n",
       "    }\n",
       "\n",
       "    .dataframe tbody tr th {\n",
       "        vertical-align: top;\n",
       "    }\n",
       "\n",
       "    .dataframe thead th {\n",
       "        text-align: right;\n",
       "    }\n",
       "</style>\n",
       "<table border=\"1\" class=\"dataframe\">\n",
       "  <thead>\n",
       "    <tr style=\"text-align: right;\">\n",
       "      <th></th>\n",
       "      <th>User-ID</th>\n",
       "      <th>Location</th>\n",
       "      <th>Age</th>\n",
       "      <th>Country</th>\n",
       "    </tr>\n",
       "  </thead>\n",
       "  <tbody>\n",
       "    <tr>\n",
       "      <th>0</th>\n",
       "      <td>1</td>\n",
       "      <td>nyc, new york, usa</td>\n",
       "      <td>NaN</td>\n",
       "      <td>usa</td>\n",
       "    </tr>\n",
       "    <tr>\n",
       "      <th>1</th>\n",
       "      <td>2</td>\n",
       "      <td>stockton, california, usa</td>\n",
       "      <td>18.0</td>\n",
       "      <td>usa</td>\n",
       "    </tr>\n",
       "    <tr>\n",
       "      <th>2</th>\n",
       "      <td>3</td>\n",
       "      <td>moscow, yukon territory, russia</td>\n",
       "      <td>NaN</td>\n",
       "      <td>russia</td>\n",
       "    </tr>\n",
       "    <tr>\n",
       "      <th>3</th>\n",
       "      <td>4</td>\n",
       "      <td>porto, v.n.gaia, portugal</td>\n",
       "      <td>17.0</td>\n",
       "      <td>portugal</td>\n",
       "    </tr>\n",
       "    <tr>\n",
       "      <th>4</th>\n",
       "      <td>5</td>\n",
       "      <td>farnborough, hants, united kingdom</td>\n",
       "      <td>NaN</td>\n",
       "      <td>united kingdom</td>\n",
       "    </tr>\n",
       "  </tbody>\n",
       "</table>\n",
       "</div>"
      ],
      "text/plain": [
       "   User-ID                            Location   Age         Country\n",
       "0        1                  nyc, new york, usa   NaN             usa\n",
       "1        2           stockton, california, usa  18.0             usa\n",
       "2        3     moscow, yukon territory, russia   NaN          russia\n",
       "3        4           porto, v.n.gaia, portugal  17.0        portugal\n",
       "4        5  farnborough, hants, united kingdom   NaN  united kingdom"
      ]
     },
     "execution_count": 24,
     "metadata": {},
     "output_type": "execute_result"
    }
   ],
   "source": [
    "users_df['Country'] = users_df['Location'].apply(find_country)\n",
    "users_df.head()"
   ]
  },
  {
   "cell_type": "markdown",
   "metadata": {},
   "source": [
    "Cuối cùng, ta loại bỏ các người dùng trùng `User-ID` (nếu có)."
   ]
  },
  {
   "cell_type": "code",
   "execution_count": 25,
   "metadata": {},
   "outputs": [
    {
     "data": {
      "text/html": [
       "<div>\n",
       "<style scoped>\n",
       "    .dataframe tbody tr th:only-of-type {\n",
       "        vertical-align: middle;\n",
       "    }\n",
       "\n",
       "    .dataframe tbody tr th {\n",
       "        vertical-align: top;\n",
       "    }\n",
       "\n",
       "    .dataframe thead th {\n",
       "        text-align: right;\n",
       "    }\n",
       "</style>\n",
       "<table border=\"1\" class=\"dataframe\">\n",
       "  <thead>\n",
       "    <tr style=\"text-align: right;\">\n",
       "      <th></th>\n",
       "      <th>User-ID</th>\n",
       "      <th>Location</th>\n",
       "      <th>Age</th>\n",
       "      <th>Country</th>\n",
       "    </tr>\n",
       "  </thead>\n",
       "  <tbody>\n",
       "    <tr>\n",
       "      <th>0</th>\n",
       "      <td>1</td>\n",
       "      <td>nyc, new york, usa</td>\n",
       "      <td>NaN</td>\n",
       "      <td>usa</td>\n",
       "    </tr>\n",
       "    <tr>\n",
       "      <th>1</th>\n",
       "      <td>2</td>\n",
       "      <td>stockton, california, usa</td>\n",
       "      <td>18.0</td>\n",
       "      <td>usa</td>\n",
       "    </tr>\n",
       "    <tr>\n",
       "      <th>2</th>\n",
       "      <td>3</td>\n",
       "      <td>moscow, yukon territory, russia</td>\n",
       "      <td>NaN</td>\n",
       "      <td>russia</td>\n",
       "    </tr>\n",
       "    <tr>\n",
       "      <th>3</th>\n",
       "      <td>4</td>\n",
       "      <td>porto, v.n.gaia, portugal</td>\n",
       "      <td>17.0</td>\n",
       "      <td>portugal</td>\n",
       "    </tr>\n",
       "    <tr>\n",
       "      <th>4</th>\n",
       "      <td>5</td>\n",
       "      <td>farnborough, hants, united kingdom</td>\n",
       "      <td>NaN</td>\n",
       "      <td>united kingdom</td>\n",
       "    </tr>\n",
       "  </tbody>\n",
       "</table>\n",
       "</div>"
      ],
      "text/plain": [
       "   User-ID                            Location   Age         Country\n",
       "0        1                  nyc, new york, usa   NaN             usa\n",
       "1        2           stockton, california, usa  18.0             usa\n",
       "2        3     moscow, yukon territory, russia   NaN          russia\n",
       "3        4           porto, v.n.gaia, portugal  17.0        portugal\n",
       "4        5  farnborough, hants, united kingdom   NaN  united kingdom"
      ]
     },
     "execution_count": 25,
     "metadata": {},
     "output_type": "execute_result"
    }
   ],
   "source": [
    "users_df = users_df.drop_duplicates('User-ID')\n",
    "users_df.head()"
   ]
  },
  {
   "cell_type": "code",
   "execution_count": 26,
   "metadata": {},
   "outputs": [],
   "source": [
    "users_df.to_csv('data_preprocessed/users.csv', index=False)"
   ]
  },
  {
   "cell_type": "markdown",
   "metadata": {},
   "source": [
    "### DỮ LIỆU ĐÁNH GIÁ SÁCH (BX_Book_Ratings.csv)"
   ]
  },
  {
   "cell_type": "markdown",
   "metadata": {},
   "source": [
    "Dữ liệu điểm đánh giá sách `BX_Book_Ratings.csv` bao gồm các cột:\n",
    "- `User-ID`: ID của người dùng đánh giá\n",
    "- `ISBN`: Mã số chuẩn quốc tế của sách được đánh giá\n",
    "- `Book-Rating`: Điểm đánh giá mà người dùng đưa ra"
   ]
  },
  {
   "cell_type": "code",
   "execution_count": 27,
   "metadata": {},
   "outputs": [
    {
     "data": {
      "text/html": [
       "<div>\n",
       "<style scoped>\n",
       "    .dataframe tbody tr th:only-of-type {\n",
       "        vertical-align: middle;\n",
       "    }\n",
       "\n",
       "    .dataframe tbody tr th {\n",
       "        vertical-align: top;\n",
       "    }\n",
       "\n",
       "    .dataframe thead th {\n",
       "        text-align: right;\n",
       "    }\n",
       "</style>\n",
       "<table border=\"1\" class=\"dataframe\">\n",
       "  <thead>\n",
       "    <tr style=\"text-align: right;\">\n",
       "      <th></th>\n",
       "      <th>User-ID</th>\n",
       "      <th>ISBN</th>\n",
       "      <th>Book-Rating</th>\n",
       "    </tr>\n",
       "  </thead>\n",
       "  <tbody>\n",
       "    <tr>\n",
       "      <th>0</th>\n",
       "      <td>276725</td>\n",
       "      <td>034545104X</td>\n",
       "      <td>0.0</td>\n",
       "    </tr>\n",
       "    <tr>\n",
       "      <th>1</th>\n",
       "      <td>276726</td>\n",
       "      <td>0155061224</td>\n",
       "      <td>5.0</td>\n",
       "    </tr>\n",
       "    <tr>\n",
       "      <th>2</th>\n",
       "      <td>276727</td>\n",
       "      <td>0446520802</td>\n",
       "      <td>0.0</td>\n",
       "    </tr>\n",
       "    <tr>\n",
       "      <th>3</th>\n",
       "      <td>276729</td>\n",
       "      <td>052165615X</td>\n",
       "      <td>3.0</td>\n",
       "    </tr>\n",
       "    <tr>\n",
       "      <th>4</th>\n",
       "      <td>276729</td>\n",
       "      <td>0521795028</td>\n",
       "      <td>6.0</td>\n",
       "    </tr>\n",
       "  </tbody>\n",
       "</table>\n",
       "</div>"
      ],
      "text/plain": [
       "   User-ID        ISBN  Book-Rating\n",
       "0   276725  034545104X          0.0\n",
       "1   276726  0155061224          5.0\n",
       "2   276727  0446520802          0.0\n",
       "3   276729  052165615X          3.0\n",
       "4   276729  0521795028          6.0"
      ]
     },
     "execution_count": 27,
     "metadata": {},
     "output_type": "execute_result"
    }
   ],
   "source": [
    "book_ratings_df = pd.read_csv('data/BX_Book_Ratings.csv', delimiter=';', encoding='ISO-8859-1', dtype={'Book-Rating': float})\n",
    "book_ratings_df.head()"
   ]
  },
  {
   "cell_type": "markdown",
   "metadata": {},
   "source": [
    "Tiếp theo, ta kiểm tra dữ liệu bị thiếu trong từng cột"
   ]
  },
  {
   "cell_type": "code",
   "execution_count": 28,
   "metadata": {},
   "outputs": [
    {
     "data": {
      "text/html": [
       "<div>\n",
       "<style scoped>\n",
       "    .dataframe tbody tr th:only-of-type {\n",
       "        vertical-align: middle;\n",
       "    }\n",
       "\n",
       "    .dataframe tbody tr th {\n",
       "        vertical-align: top;\n",
       "    }\n",
       "\n",
       "    .dataframe thead th {\n",
       "        text-align: right;\n",
       "    }\n",
       "</style>\n",
       "<table border=\"1\" class=\"dataframe\">\n",
       "  <thead>\n",
       "    <tr style=\"text-align: right;\">\n",
       "      <th></th>\n",
       "      <th>User-ID</th>\n",
       "      <th>ISBN</th>\n",
       "      <th>Book-Rating</th>\n",
       "    </tr>\n",
       "  </thead>\n",
       "  <tbody>\n",
       "  </tbody>\n",
       "</table>\n",
       "</div>"
      ],
      "text/plain": [
       "Empty DataFrame\n",
       "Columns: [User-ID, ISBN, Book-Rating]\n",
       "Index: []"
      ]
     },
     "execution_count": 28,
     "metadata": {},
     "output_type": "execute_result"
    }
   ],
   "source": [
    "book_ratings_df[book_ratings_df['User-ID'].isna()]"
   ]
  },
  {
   "cell_type": "code",
   "execution_count": 29,
   "metadata": {},
   "outputs": [
    {
     "data": {
      "text/html": [
       "<div>\n",
       "<style scoped>\n",
       "    .dataframe tbody tr th:only-of-type {\n",
       "        vertical-align: middle;\n",
       "    }\n",
       "\n",
       "    .dataframe tbody tr th {\n",
       "        vertical-align: top;\n",
       "    }\n",
       "\n",
       "    .dataframe thead th {\n",
       "        text-align: right;\n",
       "    }\n",
       "</style>\n",
       "<table border=\"1\" class=\"dataframe\">\n",
       "  <thead>\n",
       "    <tr style=\"text-align: right;\">\n",
       "      <th></th>\n",
       "      <th>User-ID</th>\n",
       "      <th>ISBN</th>\n",
       "      <th>Book-Rating</th>\n",
       "    </tr>\n",
       "  </thead>\n",
       "  <tbody>\n",
       "  </tbody>\n",
       "</table>\n",
       "</div>"
      ],
      "text/plain": [
       "Empty DataFrame\n",
       "Columns: [User-ID, ISBN, Book-Rating]\n",
       "Index: []"
      ]
     },
     "execution_count": 29,
     "metadata": {},
     "output_type": "execute_result"
    }
   ],
   "source": [
    "book_ratings_df[book_ratings_df['ISBN'].isna()]"
   ]
  },
  {
   "cell_type": "code",
   "execution_count": 30,
   "metadata": {},
   "outputs": [
    {
     "data": {
      "text/html": [
       "<div>\n",
       "<style scoped>\n",
       "    .dataframe tbody tr th:only-of-type {\n",
       "        vertical-align: middle;\n",
       "    }\n",
       "\n",
       "    .dataframe tbody tr th {\n",
       "        vertical-align: top;\n",
       "    }\n",
       "\n",
       "    .dataframe thead th {\n",
       "        text-align: right;\n",
       "    }\n",
       "</style>\n",
       "<table border=\"1\" class=\"dataframe\">\n",
       "  <thead>\n",
       "    <tr style=\"text-align: right;\">\n",
       "      <th></th>\n",
       "      <th>User-ID</th>\n",
       "      <th>ISBN</th>\n",
       "      <th>Book-Rating</th>\n",
       "    </tr>\n",
       "  </thead>\n",
       "  <tbody>\n",
       "  </tbody>\n",
       "</table>\n",
       "</div>"
      ],
      "text/plain": [
       "Empty DataFrame\n",
       "Columns: [User-ID, ISBN, Book-Rating]\n",
       "Index: []"
      ]
     },
     "execution_count": 30,
     "metadata": {},
     "output_type": "execute_result"
    }
   ],
   "source": [
    "book_ratings_df[book_ratings_df['Book-Rating'].isna()]"
   ]
  },
  {
   "cell_type": "markdown",
   "metadata": {},
   "source": [
    "Đến với dữu liệu này, ta loại bỏ các lượt đánh giá có `User-ID` hoặc `ISBN` không nằm trong dữ liệu.\n",
    "\n",
    "Cuối cùng, ta loại bỏ các trường hợp trùng lặp (nếu có)."
   ]
  },
  {
   "cell_type": "code",
   "execution_count": 31,
   "metadata": {},
   "outputs": [
    {
     "data": {
      "text/html": [
       "<div>\n",
       "<style scoped>\n",
       "    .dataframe tbody tr th:only-of-type {\n",
       "        vertical-align: middle;\n",
       "    }\n",
       "\n",
       "    .dataframe tbody tr th {\n",
       "        vertical-align: top;\n",
       "    }\n",
       "\n",
       "    .dataframe thead th {\n",
       "        text-align: right;\n",
       "    }\n",
       "</style>\n",
       "<table border=\"1\" class=\"dataframe\">\n",
       "  <thead>\n",
       "    <tr style=\"text-align: right;\">\n",
       "      <th></th>\n",
       "      <th>User-ID</th>\n",
       "      <th>ISBN</th>\n",
       "      <th>Book-Rating</th>\n",
       "    </tr>\n",
       "  </thead>\n",
       "  <tbody>\n",
       "    <tr>\n",
       "      <th>0</th>\n",
       "      <td>276725</td>\n",
       "      <td>034545104X</td>\n",
       "      <td>0.0</td>\n",
       "    </tr>\n",
       "    <tr>\n",
       "      <th>1</th>\n",
       "      <td>276726</td>\n",
       "      <td>0155061224</td>\n",
       "      <td>5.0</td>\n",
       "    </tr>\n",
       "    <tr>\n",
       "      <th>2</th>\n",
       "      <td>276727</td>\n",
       "      <td>0446520802</td>\n",
       "      <td>0.0</td>\n",
       "    </tr>\n",
       "    <tr>\n",
       "      <th>3</th>\n",
       "      <td>276729</td>\n",
       "      <td>052165615X</td>\n",
       "      <td>3.0</td>\n",
       "    </tr>\n",
       "    <tr>\n",
       "      <th>4</th>\n",
       "      <td>276729</td>\n",
       "      <td>0521795028</td>\n",
       "      <td>6.0</td>\n",
       "    </tr>\n",
       "  </tbody>\n",
       "</table>\n",
       "</div>"
      ],
      "text/plain": [
       "   User-ID        ISBN  Book-Rating\n",
       "0   276725  034545104X          0.0\n",
       "1   276726  0155061224          5.0\n",
       "2   276727  0446520802          0.0\n",
       "3   276729  052165615X          3.0\n",
       "4   276729  0521795028          6.0"
      ]
     },
     "execution_count": 31,
     "metadata": {},
     "output_type": "execute_result"
    }
   ],
   "source": [
    "book_ratings_df = book_ratings_df[book_ratings_df['ISBN'].isin(books_df['ISBN']) & book_ratings_df['User-ID'].isin(users_df['User-ID'])]\n",
    "book_ratings_df = book_ratings_df.drop_duplicates(['User-ID', 'ISBN'], keep='first')\n",
    "book_ratings_df.head()"
   ]
  },
  {
   "cell_type": "code",
   "execution_count": 32,
   "metadata": {},
   "outputs": [],
   "source": [
    "book_ratings_df.to_csv('data_preprocessed/book_ratings.csv', index=False)"
   ]
  },
  {
   "cell_type": "markdown",
   "metadata": {},
   "source": [
    "## KHÁM PHÁ DỮ LIỆU"
   ]
  },
  {
   "cell_type": "code",
   "execution_count": 33,
   "metadata": {},
   "outputs": [],
   "source": [
    "def hist_color(bins, patches, cmap='plasma'):\n",
    "    cm = plt.cm.get_cmap(cmap)\n",
    "\n",
    "    bins = bins[:len(bins) - 1]\n",
    "    col = (bins - bins.min()) / (bins.max() - bins.min())\n",
    "\n",
    "    for c, p in zip(col, patches):\n",
    "        plt.setp(p, 'facecolor', cm(c))\n",
    "\n",
    "def hist_label(patches, tick_labels, ax=None, **kwargs):\n",
    "    ticks = [patch.xy[0] + 0.5 * patch._width for patch in patches]\n",
    "    if ax is None:\n",
    "        plt.xticks(ticks, labels=tick_labels, horizontalalignment='center', **kwargs)\n",
    "    else:\n",
    "        ax.set_xticks(ticks, horizontalalignment='center', **kwargs)\n",
    "        ax.set_xticklabels(tick_labels, horizontalalignment='center', **kwargs)\n",
    "\n",
    "def hist_title(title, xlabel, ylabel, ax=None):\n",
    "    if ax is None:\n",
    "        plt.title(title) \n",
    "        plt.xlabel(xlabel)\n",
    "        plt.ylabel(ylabel)\n",
    "    else:\n",
    "        ax.set_title(title)\n",
    "        ax.set_xlabel(xlabel)\n",
    "        ax.set_ylabel(ylabel)"
   ]
  },
  {
   "cell_type": "markdown",
   "metadata": {},
   "source": [
    "Ta khám phá phân phối điểm đánh giá."
   ]
  },
  {
   "cell_type": "code",
   "execution_count": 34,
   "metadata": {},
   "outputs": [
    {
     "data": {
      "image/png": "[encoded data removed]",
      "text/plain": [
       "<Figure size 720x432 with 1 Axes>"
      ]
     },
     "metadata": {
      "needs_background": "light"
     },
     "output_type": "display_data"
    }
   ],
   "source": [
    "plt.figure(figsize=(10,6))\n",
    "\n",
    "n, bins, patches = plt.hist(book_ratings_df['Book-Rating'], bins=np.arange(0, 12, 1), width=0.8)\n",
    "plt.bar_label(patches)\n",
    "\n",
    "hist_color(bins, patches)\n",
    "hist_label(patches, np.arange(0, 11, 1))\n",
    "hist_title('Book rating distribution', 'Rating', 'Frequency')\n",
    "\n",
    "plt.show()"
   ]
  },
  {
   "cell_type": "markdown",
   "metadata": {},
   "source": [
    "Nhận xét: \n",
    "- Điểm đánh giá có giá trị trong đoạn [0, 10].\n",
    "- Phần lớn lượt đánh giá có số điểm là 0.\n",
    "- Phần còn lại, các lượt đánh giá tập trung ở các giá trị lớn hơn trung bình (>= 5)"
   ]
  },
  {
   "cell_type": "markdown",
   "metadata": {},
   "source": [
    "Ta khám phá điểm đánh giá trung bình của từng người đánh giá."
   ]
  },
  {
   "cell_type": "code",
   "execution_count": 35,
   "metadata": {},
   "outputs": [
    {
     "data": {
      "image/png": "[encoded data removed]",
      "text/plain": [
       "<Figure size 720x432 with 1 Axes>"
      ]
     },
     "metadata": {
      "needs_background": "light"
     },
     "output_type": "display_data"
    }
   ],
   "source": [
    "average_rating_per_user = book_ratings_df.groupby('User-ID').agg({'Book-Rating': 'mean'})['Book-Rating'].to_numpy().flatten()\n",
    "\n",
    "plt.figure(figsize=(10,6))\n",
    "\n",
    "n, bins, patches = plt.hist(average_rating_per_user, bins=np.arange(0, 12, 1) - 0.4, width=0.8) \n",
    "plt.bar_label(patches)\n",
    "\n",
    "hist_color(bins, patches)\n",
    "hist_label(patches, np.arange(0, 11, 1))\n",
    "hist_title('Average user rating distribution', 'Rating', 'Frequency')\n",
    "\n",
    "plt.show()"
   ]
  },
  {
   "cell_type": "markdown",
   "metadata": {},
   "source": [
    "Nhận xét: \n",
    "- Phần lớn người đánh giá có điểm đánh giá trung bình thấp (< 1)\n",
    "- Phần còn lại, người đánh giá có xu hướng cho điểm đánh giá cao (>= 5)."
   ]
  },
  {
   "cell_type": "markdown",
   "metadata": {},
   "source": [
    "Ta khám phá đánh giá trung bình của các cuốn sách."
   ]
  },
  {
   "cell_type": "code",
   "execution_count": 36,
   "metadata": {},
   "outputs": [
    {
     "data": {
      "image/png": "[encoded data removed]",
      "text/plain": [
       "<Figure size 720x432 with 1 Axes>"
      ]
     },
     "metadata": {
      "needs_background": "light"
     },
     "output_type": "display_data"
    }
   ],
   "source": [
    "average_rating_per_book = book_ratings_df.groupby('ISBN').agg({'Book-Rating': 'mean'})['Book-Rating'].to_numpy().flatten()\n",
    "\n",
    "plt.figure(figsize=(10,6))\n",
    "\n",
    "n, bins, patches = plt.hist(average_rating_per_book, bins=np.arange(0, 12, 1), width=0.8) \n",
    "plt.bar_label(patches)\n",
    "\n",
    "hist_color(bins, patches)\n",
    "hist_label(patches, np.arange(0, 11, 1))\n",
    "hist_title('Average book rating distribution', 'Rating', 'Frequency')\n",
    "\n",
    "plt.show()"
   ]
  },
  {
   "cell_type": "markdown",
   "metadata": {},
   "source": [
    "Nhận xét: \n",
    "- Phần lớn sách được đánh giá có điểm đánh giá trung bình thấp (< 1)\n",
    "- Phần còn lại, phân phối điểm đánh giá trung bình khá đều."
   ]
  },
  {
   "cell_type": "markdown",
   "metadata": {},
   "source": [
    "Ta khám phá số lượt đánh giá của từng người dùng."
   ]
  },
  {
   "cell_type": "code",
   "execution_count": 37,
   "metadata": {},
   "outputs": [
    {
     "data": {
      "image/png": "[encoded data removed]",
      "text/plain": [
       "<Figure size 720x432 with 1 Axes>"
      ]
     },
     "metadata": {
      "needs_background": "light"
     },
     "output_type": "display_data"
    }
   ],
   "source": [
    "def get_range_index(val):\n",
    "    if val <= 1:\n",
    "        return 0\n",
    "    if val <= 5:\n",
    "        return 1\n",
    "    return 2 + get_range_index(val / 10)\n",
    "\n",
    "num_ratings_per_user = book_ratings_df.groupby('User-ID').agg({'Book-Rating': 'count'})['Book-Rating'].apply(get_range_index).to_numpy()\n",
    "max_num_ratings_per_user = num_ratings_per_user.max()\n",
    "tick_labels = []\n",
    "b = 0\n",
    "for i in range(max_num_ratings_per_user + 1):\n",
    "    n = 1 if i % 2 == 0 else 5\n",
    "    n *= 10 ** (i // 2)\n",
    "    tick_labels.append(f'({b}, {n}]')\n",
    "    b = n\n",
    "\n",
    "plt.figure(figsize=(10,6))\n",
    "\n",
    "n, bins, patches = plt.hist(num_ratings_per_user, bins=np.arange(0, max_num_ratings_per_user + 2, 1), width=0.8) \n",
    "plt.bar_label(patches)\n",
    "\n",
    "hist_color(bins, patches)\n",
    "hist_label(patches, tick_labels, rotation=45)\n",
    "hist_title('User no. ratings distribution', 'No. ratings', 'Frequency')\n",
    " \n",
    "plt.show()"
   ]
  },
  {
   "cell_type": "markdown",
   "metadata": {},
   "source": [
    "Nhận xét: \n",
    "- Hầu hết người đánh giá chỉ có vài lượt đánh giá.\n",
    "- Có một số ít người đánh giá có rất nhiều lượt đánh giá."
   ]
  },
  {
   "cell_type": "markdown",
   "metadata": {},
   "source": [
    "Ta sẽ xem xét kỹ hơn những người dùng có rating trung bình thấp (< 1) so với những người dùng còn lại (>= 1)"
   ]
  },
  {
   "cell_type": "code",
   "execution_count": 38,
   "metadata": {},
   "outputs": [
    {
     "data": {
      "image/png": "[encoded data removed]",
      "text/plain": [
       "<Figure size 720x432 with 1 Axes>"
      ]
     },
     "metadata": {
      "needs_background": "light"
     },
     "output_type": "display_data"
    }
   ],
   "source": [
    "def get_range_index(val):\n",
    "    if val <= 1:\n",
    "        return 0\n",
    "    if val <= 5:\n",
    "        return 1\n",
    "    return 2 + get_range_index(val / 10)\n",
    "\n",
    "num_ratings_per_book = book_ratings_df.groupby('ISBN').agg({'Book-Rating': 'count'})['Book-Rating'].apply(get_range_index).to_numpy()\n",
    "max_num_ratings_per_book = num_ratings_per_book.max()\n",
    "tick_labels = []\n",
    "b = 0\n",
    "for i in range(max_num_ratings_per_book + 1):\n",
    "    n = 1 if i % 2 == 0 else 5\n",
    "    n *= 10 ** (i // 2)\n",
    "    tick_labels.append(f'({b}, {n}]')\n",
    "    b = n\n",
    "\n",
    "plt.figure(figsize=(10,6))\n",
    "\n",
    "n, bins, patches = plt.hist(num_ratings_per_book, bins=np.arange(0, max_num_ratings_per_book + 2, 1), width=0.8) \n",
    "plt.bar_label(patches)\n",
    "\n",
    "hist_color(bins, patches)\n",
    "hist_label(patches, tick_labels, rotation=45)\n",
    "hist_title('Book no. ratings distribution', 'No. ratings', 'Frequency')\n",
    " \n",
    "plt.show()"
   ]
  },
  {
   "cell_type": "code",
   "execution_count": 39,
   "metadata": {},
   "outputs": [],
   "source": [
    "user_ratings_df = book_ratings_df.groupby('User-ID').agg({'Book-Rating': ['mean', 'count']}).reset_index()\n",
    "user_ratings_df.columns = [' '.join(col).strip() for col in user_ratings_df.columns.values]\n",
    "\n",
    "low_rating_users_df  = user_ratings_df[user_ratings_df['Book-Rating mean'] < 1.0]\n",
    "high_rating_users_df = user_ratings_df[user_ratings_df['Book-Rating mean'] >= 1.0]"
   ]
  },
  {
   "cell_type": "code",
   "execution_count": 40,
   "metadata": {},
   "outputs": [
    {
     "data": {
      "image/png": "[encoded data removed]",
      "text/plain": [
       "<Figure size 1440x432 with 2 Axes>"
      ]
     },
     "metadata": {
      "needs_background": "light"
     },
     "output_type": "display_data"
    }
   ],
   "source": [
    "def get_range_index(val):\n",
    "    if val <= 1:\n",
    "        return 0\n",
    "    if val <= 5:\n",
    "        return 1\n",
    "    return 2 + get_range_index(val / 10)\n",
    "\n",
    "fig, axs = plt.subplots(1, 2, figsize=(20, 6), sharey=True)\n",
    "\n",
    "num_ratings_per_low_rating_user = low_rating_users_df['Book-Rating count'].apply(get_range_index).to_numpy()\n",
    "max_num_ratings_per_low_rating_user = num_ratings_per_low_rating_user.max()\n",
    "tick_labels = []\n",
    "b = 0\n",
    "for i in range(max_num_ratings_per_low_rating_user + 1):\n",
    "    n = 1 if i % 2 == 0 else 5\n",
    "    n *= 10 ** (i // 2)\n",
    "    tick_labels.append(f'({b}, {n}]')\n",
    "    b = n\n",
    "\n",
    "n, bins, patches = axs[0].hist(num_ratings_per_low_rating_user, bins=np.arange(0, max_num_ratings_per_low_rating_user + 2, 1), width=0.8) \n",
    "axs[0].bar_label(patches)\n",
    "\n",
    "hist_color(bins, patches)\n",
    "hist_label(patches, tick_labels, ax=axs[0], rotation=45)\n",
    "hist_title('User no. ratings distribution (Low rating users)', 'No. ratings', 'Frequency', ax=axs[0])\n",
    "\n",
    "num_ratings_per_high_rating_user = high_rating_users_df['Book-Rating count'].apply(get_range_index).to_numpy()\n",
    "max_num_ratings_per_high_rating_user = num_ratings_per_high_rating_user.max()\n",
    "tick_labels = []\n",
    "b = 0\n",
    "for i in range(max_num_ratings_per_high_rating_user + 1):\n",
    "    n = 1 if i % 2 == 0 else 5\n",
    "    n *= 10 ** (i // 2)\n",
    "    tick_labels.append(f'({b}, {n}]')\n",
    "    b = n\n",
    "\n",
    "n, bins, patches = axs[1].hist(num_ratings_per_high_rating_user, bins=np.arange(0, max_num_ratings_per_high_rating_user + 2, 1), width=0.8) \n",
    "axs[1].bar_label(patches)\n",
    "\n",
    "hist_color(bins, patches)\n",
    "hist_label(patches, tick_labels, ax=axs[1], rotation=45)\n",
    "hist_title('User no. ratings distribution (High rating users)', 'No. ratings', 'Frequency', ax=axs[1])\n",
    "\n",
    "\n",
    "plt.show()"
   ]
  },
  {
   "cell_type": "markdown",
   "metadata": {},
   "source": [
    "Nhận xét:\n",
    "- Người có rating trung bình thấp (< 1) có khuynh hướng thực hiện 1 lượt đánh giá.\n",
    "- Người có rating trung bình cao (>= 1) cũng có khuynh hướng thực hiện 1 lượt đánh giá, nhưng với mức độ nhẹ hơn so với người có rating trung bình thấp."
   ]
  },
  {
   "cell_type": "markdown",
   "metadata": {},
   "source": [
    "Ta khám phá số lượng sách của từng tác giả."
   ]
  },
  {
   "cell_type": "code",
   "execution_count": 41,
   "metadata": {},
   "outputs": [
    {
     "data": {
      "image/png": "[encoded data removed]",
      "text/plain": [
       "<Figure size 720x432 with 1 Axes>"
      ]
     },
     "metadata": {
      "needs_background": "light"
     },
     "output_type": "display_data"
    }
   ],
   "source": [
    "def get_range_index(val):\n",
    "    if val <= 1:\n",
    "        return 0\n",
    "    if val <= 2:\n",
    "        return 1\n",
    "    if val <= 5:\n",
    "        return 2\n",
    "    return 3 + get_range_index(val / 10)\n",
    "\n",
    "num_books_per_author = books_df[['ISBN', 'Book-Author']].explode('Book-Author')\n",
    "num_books_per_author = num_books_per_author.groupby('Book-Author').agg({'ISBN': 'count'})['ISBN'].apply(get_range_index).to_numpy()\n",
    "max_num_books_per_author = num_books_per_author.max()\n",
    "tick_labels = []\n",
    "b = 0\n",
    "for i in range(max_num_books_per_author + 1):\n",
    "    n = 1 if i % 3 == 0 else 2 if i % 3 == 1 else 5\n",
    "    n *= 10 ** (i // 3)\n",
    "    tick_labels.append(f'({b}, {n}]')\n",
    "    b = n\n",
    "\n",
    "plt.figure(figsize=(10,6))\n",
    "\n",
    "n, bin, patches = plt.hist(num_books_per_author, bins=np.arange(0, max_num_books_per_author + 2, 1), width=0.8) \n",
    "plt.bar_label(patches)\n",
    "\n",
    "hist_color(bins, patches)\n",
    "hist_label(patches, tick_labels, rotation=45)\n",
    "hist_title('Author no. books distribution', 'No. books', 'Frequency')\n",
    "\n",
    "plt.show()"
   ]
  },
  {
   "cell_type": "markdown",
   "metadata": {},
   "source": [
    "Nhận xét: \n",
    "- Hầu hết tác giả chỉ có một vài sách.\n",
    "- Có một số ít tác giả có rất nhiều sách.\n",
    "\n",
    "Điều này có thể ảnh hưởng đến mô hình đề xuất dựa trên tác giả vì phần lớn tác giả có ít sách, kéo theo số lượng sách đề xuất cũng ít hơn."
   ]
  },
  {
   "cell_type": "markdown",
   "metadata": {},
   "source": [
    "## PHÁT SINH DỮ LIỆU"
   ]
  },
  {
   "cell_type": "markdown",
   "metadata": {},
   "source": [
    "Ta tổng hợp bộ dự liệu mới, chứa thông tin về đánh giá trung bình và số lượt đánh giá của từng người dùng đối với tất cả các sách từng tác giả.\n",
    "\n",
    "Mục đích của việc xây dựng bộ dữ liệu này là để xây dựng mô hình lọc cộng tác đề xuất tác giả."
   ]
  },
  {
   "cell_type": "code",
   "execution_count": 42,
   "metadata": {},
   "outputs": [
    {
     "name": "stdout",
     "output_type": "stream",
     "text": [
      "(653637, 4)\n"
     ]
    },
    {
     "data": {
      "text/html": [
       "<div>\n",
       "<style scoped>\n",
       "    .dataframe tbody tr th:only-of-type {\n",
       "        vertical-align: middle;\n",
       "    }\n",
       "\n",
       "    .dataframe tbody tr th {\n",
       "        vertical-align: top;\n",
       "    }\n",
       "\n",
       "    .dataframe thead th {\n",
       "        text-align: right;\n",
       "    }\n",
       "</style>\n",
       "<table border=\"1\" class=\"dataframe\">\n",
       "  <thead>\n",
       "    <tr style=\"text-align: right;\">\n",
       "      <th></th>\n",
       "      <th>User-ID</th>\n",
       "      <th>Book-Author</th>\n",
       "      <th>Average-Rating</th>\n",
       "      <th>Num-Ratings</th>\n",
       "    </tr>\n",
       "  </thead>\n",
       "  <tbody>\n",
       "    <tr>\n",
       "      <th>0</th>\n",
       "      <td>2</td>\n",
       "      <td>mark morford</td>\n",
       "      <td>0.0</td>\n",
       "      <td>1</td>\n",
       "    </tr>\n",
       "    <tr>\n",
       "      <th>1</th>\n",
       "      <td>8</td>\n",
       "      <td>adam lebor</td>\n",
       "      <td>0.0</td>\n",
       "      <td>1</td>\n",
       "    </tr>\n",
       "    <tr>\n",
       "      <th>2</th>\n",
       "      <td>8</td>\n",
       "      <td>amy tan</td>\n",
       "      <td>0.0</td>\n",
       "      <td>1</td>\n",
       "    </tr>\n",
       "    <tr>\n",
       "      <th>3</th>\n",
       "      <td>8</td>\n",
       "      <td>carlo d'este</td>\n",
       "      <td>0.0</td>\n",
       "      <td>1</td>\n",
       "    </tr>\n",
       "    <tr>\n",
       "      <th>4</th>\n",
       "      <td>8</td>\n",
       "      <td>david richards</td>\n",
       "      <td>0.0</td>\n",
       "      <td>1</td>\n",
       "    </tr>\n",
       "  </tbody>\n",
       "</table>\n",
       "</div>"
      ],
      "text/plain": [
       "   User-ID     Book-Author  Average-Rating  Num-Ratings\n",
       "0        2    mark morford             0.0            1\n",
       "1        8      adam lebor             0.0            1\n",
       "2        8         amy tan             0.0            1\n",
       "3        8    carlo d'este             0.0            1\n",
       "4        8  david richards             0.0            1"
      ]
     },
     "execution_count": 42,
     "metadata": {},
     "output_type": "execute_result"
    }
   ],
   "source": [
    "author_ratings_df = pd.merge(book_ratings_df, books_df[['ISBN', 'Book-Author']], on='ISBN').drop('ISBN', axis=1)[['User-ID', 'Book-Author', 'Book-Rating']]\n",
    "author_ratings_df = author_ratings_df.explode('Book-Author').groupby(['User-ID', 'Book-Author']).agg(['mean', 'count']).rename(columns={'mean': 'Average-Rating', 'count': 'Num-Ratings'}).reset_index()\n",
    "author_ratings_df.columns = [col[-1] if len(col[-1]) > 0 else col[0] for col in author_ratings_df.columns]\n",
    "print(author_ratings_df.shape)\n",
    "\n",
    "author_ratings_df.head()"
   ]
  },
  {
   "cell_type": "code",
   "execution_count": 43,
   "metadata": {},
   "outputs": [],
   "source": [
    "author_ratings_df.to_csv('data_preprocessed/author_ratings.csv', index=False)"
   ]
  }
 ],
 "metadata": {
  "kernelspec": {
   "display_name": "Python 3.10.4 64-bit",
   "language": "python",
   "name": "python3"
  },
  "language_info": {
   "codemirror_mode": {
    "name": "ipython",
    "version": 3
   },
   "file_extension": ".py",
   "mimetype": "text/x-python",
   "name": "python",
   "nbconvert_exporter": "python",
   "pygments_lexer": "ipython3",
   "version": "3.10.4"
  },
  "orig_nbformat": 4,
  "vscode": {
   "interpreter": {
    "hash": "107d7b120a5b68773a87d4067e673630b35702e55ebab3138143d08b1c4d7cbc"
   }
  }
 },
 "nbformat": 4,
 "nbformat_minor": 2
}
